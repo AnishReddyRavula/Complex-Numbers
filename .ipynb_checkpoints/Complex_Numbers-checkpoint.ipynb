{
 "cells": [
  {
   "cell_type": "code",
   "execution_count": 1,
   "metadata": {
    "collapsed": false
   },
   "outputs": [],
   "source": [
    "class complex_number(object):\n",
    "    def __init__(self, real, imag=0.0):\n",
    "        self.real = real\n",
    "        self.imag = imag\n",
    "\n",
    "    def __add__(self, other):\n",
    "        return complex_number(self.real + other.real,\n",
    "                       self.imag + other.imag)\n",
    "\n",
    "    def __sub__(self, other):\n",
    "        return complex_number(self.real - other.real,\n",
    "                       self.imag - other.imag)\n",
    "\n",
    "    def __mul__(self, other):\n",
    "        return complex_number(self.real*other.real - self.imag*other.imag,\n",
    "                       self.imag*other.real + self.real*other.imag)\n",
    "\n",
    "    def __truediv__(self, other):\n",
    "        sr, si, or1, oi = self.real, self.imag, other.real, other.imag \n",
    "        r = float(or1**2 + oi**2)\n",
    "        return complex_number((sr*or1+si*oi)/r, (si*or1-sr*oi)/r)\n",
    "\n",
    "    def __abs__(self):\n",
    "        return (self.real**2 + self.imag**2)**0.5\n",
    "\n",
    "\n",
    "\n",
    "    def __repr__(self):\n",
    "        if self.imag < 0:\n",
    "            return ' %g%gi ' % (self.real, self.imag)\n",
    "        else:\n",
    "            return ' %g+%gi ' % (self.real, self.imag)\n",
    "    \n",
    "    def real(self):\n",
    "        return self.real\n",
    "    \n",
    "    def imag(self):\n",
    "        return self.imag\n",
    "    \n",
    "\n",
    "\n",
    "        \n",
    "    "
   ]
  },
  {
   "cell_type": "code",
   "execution_count": 2,
   "metadata": {
    "collapsed": true
   },
   "outputs": [],
   "source": [
    "l = complex_number(1,-2)\n",
    "m = complex_number(2,2)"
   ]
  },
  {
   "cell_type": "code",
   "execution_count": 3,
   "metadata": {
    "collapsed": false
   },
   "outputs": [
    {
     "name": "stdout",
     "output_type": "stream",
     "text": [
      " 1-2i   2+2i \n"
     ]
    }
   ],
   "source": [
    "print(l,m)\n"
   ]
  },
  {
   "cell_type": "code",
   "execution_count": null,
   "metadata": {
    "collapsed": true
   },
   "outputs": [],
   "source": []
  },
  {
   "cell_type": "code",
   "execution_count": null,
   "metadata": {
    "collapsed": true
   },
   "outputs": [],
   "source": []
  }
 ],
 "metadata": {
  "anaconda-cloud": {},
  "kernelspec": {
   "display_name": "Python [conda root]",
   "language": "python",
   "name": "conda-root-py"
  },
  "language_info": {
   "codemirror_mode": {
    "name": "ipython",
    "version": 3
   },
   "file_extension": ".py",
   "mimetype": "text/x-python",
   "name": "python",
   "nbconvert_exporter": "python",
   "pygments_lexer": "ipython3",
   "version": "3.5.2"
  }
 },
 "nbformat": 4,
 "nbformat_minor": 1
}
