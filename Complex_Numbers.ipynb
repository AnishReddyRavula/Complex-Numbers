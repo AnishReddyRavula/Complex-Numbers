{
 "cells": [
  {
   "cell_type": "markdown",
   "metadata": {
    "collapsed": false
   },
   "source": [
    "Task: Making Complex_Numbers Package:\n",
    "Note:\n",
    "\n",
    "You are not allowed to use any internal complex number library or a python package that handle complex numbers.\n",
    "You can use other internal libraries if you like.\n",
    "Define a class called complex_number which accepts 2 parameters:\n",
    "\n",
    "x: int64, float64, represents real component of the complex number\n",
    "y: int64, float64, represents imaginary component of the complex number\n",
    "Example, complex_number(3, 5) means 3 is the real part of the complex number and 5 is the imaginary part of the complex number. Such a number is represented as 3 + 5i.\n",
    "\n",
    "Here is a resource to help you with the required information to solve this assignment. You can take help from other online resources as well.\n",
    "\n",
    "Questions:\n",
    "Define the follwoing operations for the class:\n",
    "\n",
    "representation in the form of x + yi when used with print command\n",
    "'+'\n",
    "'-'\n",
    "'*'\n",
    "'/'\n",
    "abs()\n",
    "\n",
    "Note that these operations should be compatible with int and float datatypes as well\n",
    "\n",
    "Also, define following methods.\n",
    "\n",
    "real() [Returns real component of the complex number]\n",
    "imag() [Returns complex component of the complex number]\n",
    "argument() [Returns argument of the complex number]\n",
    "conjugate() [Returns conjugate of the complex number]\n",
    "Include error handling"
   ]
  },
  {
   "cell_type": "code",
   "execution_count": 107,
   "metadata": {
    "collapsed": false
   },
   "outputs": [],
   "source": [
    "class complex_number(object):\n",
    "    import math\n",
    "    def __init__(self, real_, imag_=0.0):\n",
    "        self.real_ = real_\n",
    "        self.imag_ = imag_\n",
    "\n",
    "    def __add__(self, other):\n",
    "        return complex_number(self.real_ + other.real_,\n",
    "                       self.imag_ + other.imag_)\n",
    "\n",
    "    def __sub__(self, other):\n",
    "        return complex_number(self.real_ - other.real_,\n",
    "                       self.imag_ - other.imag_)\n",
    "\n",
    "    def __mul__(self, other):\n",
    "        return complex_number(self.real_*other.real_ - self.imag_*other.imag_,\n",
    "                       self.imag_*other.real_ + self.real_*other.imag_)\n",
    "\n",
    "    def __truediv__(self, other):\n",
    "        sr, si, or1, oi = self.real_, self.imag_, other.real_, other.imag_ \n",
    "        r = float(or1**2 + oi**2)\n",
    "        return complex_number((sr*or1+si*oi)/r, (si*or1-sr*oi)/r)\n",
    "\n",
    "    def __abs__(self):\n",
    "        return (self.real_**2 + self.imag_**2)**0.5\n",
    "\n",
    "\n",
    "\n",
    "    def __repr__(self):\n",
    "        if self.imag_ < 0:\n",
    "            return ' %g%gi ' % (self.real_, self.imag_)\n",
    "        else:\n",
    "            return ' %g+%gi ' % (self.real_, self.imag_)\n",
    "    \n",
    "    def real(self):\n",
    "        return 1\n",
    "    \n",
    "    def imag(self):\n",
    "        return self.imag_\n",
    "    \n",
    "    def argument(self):\n",
    "        import math\n",
    "        return 2 * math.atan(self.imag_/(self.real_ * abs(self)))\n",
    "        \n",
    "    \n",
    "        \n",
    "    "
   ]
  },
  {
   "cell_type": "code",
   "execution_count": 111,
   "metadata": {
    "collapsed": false
   },
   "outputs": [],
   "source": [
    "l = complex_number(1,3)\n",
    "m = complex_number(2,2)"
   ]
  },
  {
   "cell_type": "code",
   "execution_count": 112,
   "metadata": {
    "collapsed": false
   },
   "outputs": [
    {
     "name": "stdout",
     "output_type": "stream",
     "text": [
      "1.5181404185333267\n"
     ]
    }
   ],
   "source": [
    "\n",
    "print(l.argument())\n"
   ]
  },
  {
   "cell_type": "code",
   "execution_count": 110,
   "metadata": {
    "collapsed": false
   },
   "outputs": [
    {
     "name": "stdout",
     "output_type": "stream",
     "text": [
      "1\n"
     ]
    }
   ],
   "source": [
    "print(m.real())"
   ]
  },
  {
   "cell_type": "code",
   "execution_count": null,
   "metadata": {
    "collapsed": true
   },
   "outputs": [],
   "source": []
  },
  {
   "cell_type": "code",
   "execution_count": null,
   "metadata": {
    "collapsed": true
   },
   "outputs": [],
   "source": []
  }
 ],
 "metadata": {
  "anaconda-cloud": {},
  "kernelspec": {
   "display_name": "Python [conda root]",
   "language": "python",
   "name": "conda-root-py"
  },
  "language_info": {
   "codemirror_mode": {
    "name": "ipython",
    "version": 3
   },
   "file_extension": ".py",
   "mimetype": "text/x-python",
   "name": "python",
   "nbconvert_exporter": "python",
   "pygments_lexer": "ipython3",
   "version": "3.5.2"
  }
 },
 "nbformat": 4,
 "nbformat_minor": 1
}
