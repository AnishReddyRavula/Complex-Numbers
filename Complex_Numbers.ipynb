{
 "cells": [
  {
   "cell_type": "markdown",
   "metadata": {},
   "source": [
    "# Task: Making `Complex_Numbers` Package:"
   ]
  },
  {
   "cell_type": "markdown",
   "metadata": {},
   "source": [
    "Note:\n",
    "\n",
    "* You are not allowed to use any internal `complex number` library or a python package that handle complex numbers.\n",
    "* You can use other internal libraries if you like.\n",
    "\n",
    "Define a class called `complex_number` which accepts 2 parameters:\n",
    "\n",
    "* x: int64, float64, represents real component of the complex number\n",
    "* y: int64, float64, represents imaginary component of the complex number\n",
    "\n",
    "Example, `complex_number(3, 5)` means 3 is the real part of the complex number and 5 is the imaginary part of the complex number. Such a number is represented as 3 + 5i.\n",
    "\n",
    "Here is [a resource](http://www.careerbless.com/aptitude/qa/complex_numbers_imp.php) to help you with the required information to solve this assignment. You can take help from other online resources as well.\n",
    "\n",
    "### Questions:\n",
    "\n",
    "Define the follwoing operations for the class: \n",
    "\n",
    "* representation in the form of x + yi when used with `print` command\n",
    "* '+'\n",
    "* '-'\n",
    "* '*'\n",
    "* '/'\n",
    "* abs()\n",
    "\n",
    "* Note that these operations should be compatible with `int` and `float` datatypes as well\n",
    "\n",
    "Also, define following methods.\n",
    "\n",
    "\n",
    "* real() [Returns real component of the complex number]\n",
    "* imag() [Returns complex component of the complex number]\n",
    "* argument() [Returns argument of the complex number]\n",
    "* conjugate() [Returns conjugate of the complex number]\n",
    "\n",
    "Include error handling"
   ]
  },
  {
   "cell_type": "code",
   "execution_count": 130,
   "metadata": {
    "collapsed": false
   },
   "outputs": [],
   "source": [
    "class complex_number(object):\n",
    "    def __init__(self, real_, imag_=0.0):\n",
    "        self.real_ = real_\n",
    "        self.imag_ = imag_\n",
    "\n",
    "    def __add__(self, other):\n",
    "        return complex_number(self.real_ + other.real_,\n",
    "                       self.imag_ + other.imag_)\n",
    "\n",
    "    def __sub__(self, other):\n",
    "        return complex_number(self.real_ - other.real_,\n",
    "                       self.imag_ - other.imag_)\n",
    "\n",
    "    def __mul__(self, other):\n",
    "        return complex_number(self.real_*other.real_ - self.imag_*other.imag_,\n",
    "                       self.imag_*other.real_ + self.real_*other.imag_)\n",
    "\n",
    "    def __truediv__(self, other):\n",
    "        sr, si, or1, oi = self.real_, self.imag_, other.real_, other.imag_ \n",
    "        r = float(or1**2 + oi**2)\n",
    "        return complex_number((sr*or1+si*oi)/r, (si*or1-sr*oi)/r)\n",
    "\n",
    "    def __abs__(self):\n",
    "        return (self.real_**2 + self.imag_**2)**0.5\n",
    "\n",
    "\n",
    "\n",
    "    def __repr__(self):\n",
    "        if self.imag_ < 0:\n",
    "            return ' %g%gi ' % (self.real_, self.imag_)\n",
    "        else:\n",
    "            return ' %g+%gi ' % (self.real_, self.imag_)\n",
    "    \n",
    "    def real(self):\n",
    "        return self.real_\n",
    "    \n",
    "    def imag(self):\n",
    "        return self.imag_\n",
    "    \n",
    "    def argument(self):\n",
    "        import math\n",
    "        return  math.atan(self.imag_/(self.real_))\n",
    "        \n",
    "    def conjugate(self):\n",
    "        if self.imag_ < 0:\n",
    "            self.imag_ += 2 * abs(self.imag_)\n",
    "        else:\n",
    "            self.imag_ -= 2 * self.imag_\n",
    "        return self"
   ]
  },
  {
   "cell_type": "code",
   "execution_count": 131,
   "metadata": {
    "collapsed": false
   },
   "outputs": [],
   "source": [
    "l = complex_number(1,-5)\n",
    "m = complex_number(2,2)"
   ]
  }
 ],
 "metadata": {
  "anaconda-cloud": {},
  "kernelspec": {
   "display_name": "Python [conda root]",
   "language": "python",
   "name": "conda-root-py"
  },
  "language_info": {
   "codemirror_mode": {
    "name": "ipython",
    "version": 3
   },
   "file_extension": ".py",
   "mimetype": "text/x-python",
   "name": "python",
   "nbconvert_exporter": "python",
   "pygments_lexer": "ipython3",
   "version": "3.5.2"
  }
 },
 "nbformat": 4,
 "nbformat_minor": 1
}
